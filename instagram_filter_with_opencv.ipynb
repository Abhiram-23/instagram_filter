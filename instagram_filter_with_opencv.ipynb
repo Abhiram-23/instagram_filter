{
 "cells": [
  {
   "cell_type": "markdown",
   "metadata": {},
   "source": [
    "# Hai\n",
    "## This is instagram filter\n",
    "### By opencv\n",
    "#### library's are:\n",
    "1. cv2\n",
    "2. numpy\n",
    "\n",
    "**please learn**\n",
    "\n",
    "*ok*\n"
   ]
  },
  {
   "cell_type": "code",
   "execution_count": null,
   "metadata": {},
   "outputs": [],
   "source": [
    "import cv2\n",
    "import numpy as np"
   ]
  },
  {
   "cell_type": "code",
   "execution_count": 2,
   "metadata": {},
   "outputs": [],
   "source": [
    "def dummy(value):\n",
    "    pass"
   ]
  },
  {
   "cell_type": "code",
   "execution_count": 29,
   "metadata": {},
   "outputs": [],
   "source": [
    "original=cv2.imread(r'D:\\hay.jpg')\n",
    "gray_scle=cv2.cvtColor(original,cv2.COLOR_BGR2GRAY)\n",
    "identity_kernel=np.array([[0,0,0],[0,1,0],[0,0,0]])\n",
    "sharpen_kernel=np.array([[0,10,0],[0,0,0],[0,-1,0]])\n",
    "gaussian_kernal1=cv2.getGaussianKernel(3,0)\n",
    "gaussian_kernal2=cv2.getGaussianKernel(5,0)\n",
    "box_kernal = np.array([[1,1,1],[1,1,1],[1,1,1]],np.float32)/9.0\n",
    "kernels=[identity_kernel,sharpen_kernel,gaussian_kernal1,gaussian_kernal2]"
   ]
  },
  {
   "cell_type": "code",
   "execution_count": null,
   "metadata": {},
   "outputs": [],
   "source": [
    "cv2.namedWindow('app')\n",
    "cv2.createTrackbar('contrast','app',1,100,dummy)\n",
    "cv2.createTrackbar('brightness','app',50,100,dummy)\n",
    "cv2.createTrackbar('filter','app',0,len(kernels)-1,dummy)\n",
    "cv2.createTrackbar('grayscale','app',0,1,dummy)\n",
    "count=1\n",
    "while True:\n",
    "    grayscale=cv2.getTrackbarPos('grayscale','app')\n",
    "    brightness=cv2.getTrackbarPos('brightness','app')\n",
    "    contrast=cv2.getTrackbarPos('contrast','app')\n",
    "    kernel_idx=cv2.getTrackbarPos('filter','app')\n",
    "    \n",
    "    color_modified = cv2.filter2D(original, -1, kernels[kernel_idx])\n",
    "    gray_modified = cv2.filter2D(gray_scle, -1, kernels[kernel_idx])\n",
    "    \n",
    "    color_modified=cv2.addWeighted(color_modified,contrast,np.zeros_like(original),0,brightness-50)\n",
    "    \n",
    "    gray_modified=cv2.addWeighted(gray_modified,contrast,np.zeros_like(gray_scle),0,brightness-50)\n",
    "    \n",
    "    key=cv2.waitKey(100)\n",
    "    \n",
    "    if key==ord('q'):\n",
    "        break\n",
    "    elif key==ord('s'):\n",
    "        if grayscale==0:\n",
    "            cv2.imwrite('output-{0}.png'.format(count),color_modified)\n",
    "        else:\n",
    "            cv2.imwrite('output-{0}.png'.format(count),gray_modified)  \n",
    "        count+=1\n",
    "        pass\n",
    "    if grayscale==0:\n",
    "        cv2.imshow('app',color_modified)\n",
    "    else:\n",
    "        cv2.imshow('app',gray_modified)\n",
    "cv2.destroyAllWindows()"
   ]
  },
  {
   "cell_type": "code",
   "execution_count": null,
   "metadata": {},
   "outputs": [],
   "source": []
  }
 ],
 "metadata": {
  "kernelspec": {
   "display_name": "Python 3",
   "language": "python",
   "name": "python3"
  },
  "language_info": {
   "codemirror_mode": {
    "name": "ipython",
    "version": 3
   },
   "file_extension": ".py",
   "mimetype": "text/x-python",
   "name": "python",
   "nbconvert_exporter": "python",
   "pygments_lexer": "ipython3",
   "version": "3.7.3"
  }
 },
 "nbformat": 4,
 "nbformat_minor": 4
}
